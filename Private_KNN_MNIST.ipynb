{
  "nbformat": 4,
  "nbformat_minor": 0,
  "metadata": {
    "kernelspec": {
      "display_name": "Python 3",
      "language": "python",
      "name": "python3"
    },
    "language_info": {
      "codemirror_mode": {
        "name": "ipython",
        "version": 3
      },
      "file_extension": ".py",
      "mimetype": "text/x-python",
      "name": "python",
      "nbconvert_exporter": "python",
      "pygments_lexer": "ipython3",
      "version": "3.8.5"
    },
    "colab": {
      "name": "Private_KNN_MNIST.ipynb",
      "provenance": [],
      "collapsed_sections": [],
      "toc_visible": true
    },
    "accelerator": "TPU"
  },
  "cells": [
    {
      "cell_type": "markdown",
      "metadata": {
        "id": "TFmtgMp1ERdI"
      },
      "source": [
        "## This is a KNN classification algorithm that aims to best classify images from the MNIST Dataset "
      ]
    },
    {
      "cell_type": "code",
      "metadata": {
        "id": "sIto8kIIERdQ"
      },
      "source": [
        "#Relevant imports\n",
        "import numpy as np\n",
        "from scipy.integrate import odeint\n",
        "import matplotlib.pyplot as plt\n",
        "import scipy as sc\n",
        "import pandas as pd\n",
        "import math\n",
        "import cv2 as cv\n",
        "import numpy as np\n",
        "from skimage.feature import hog\n",
        "from sklearn import preprocessing\n",
        "from sklearn.metrics import confusion_matrix\n",
        "from collections import Counter\n",
        "import os"
      ],
      "execution_count": null,
      "outputs": []
    },
    {
      "cell_type": "markdown",
      "metadata": {
        "id": "Me1KungaERdR"
      },
      "source": [
        "## What is this?\n",
        "This is a particular implementation of the KNN algorithm for classifying images in the MNIST dataset. Here, a eculidean distance metric is used."
      ]
    },
    {
      "cell_type": "code",
      "metadata": {
        "id": "23rjsj84ERdR"
      },
      "source": [
        "#train will serve as D Private \n",
        "train = pd.read_csv(\"/content/mnist_train.csv\")\n",
        "test = pd.read_csv(\"/content/mnist_test.csv\")\n",
        "\n",
        "x = np.random.binomial(len(train),.05)\n",
        "#Do poisson sampling\n",
        "sample = train.sample(n = x)\n",
        "\n",
        "global X_train, X_test, y_train, y_test\n",
        "#set up test train data\n",
        "X_train = sample.drop(columns='label')\n",
        "\n",
        "X_test = test.drop(columns = 'label')\n",
        "\n",
        "y_train = sample['label']\n",
        "\n",
        "y_test = test['label']\n",
        "\n",
        "y_test = y_test.to_numpy()\n",
        "\n",
        "X_test = X_test.to_numpy()\n",
        "\n",
        "y_train = y_train.to_numpy()\n",
        "\n",
        "X_train = X_train.to_numpy()\n",
        "\n"
      ],
      "execution_count": null,
      "outputs": []
    },
    {
      "cell_type": "code",
      "metadata": {
        "id": "hLwd7qK-ERdS"
      },
      "source": [
        "#Euclidean distance betweeen two arrays\n",
        "# np.sum((row1 - row2)**2 )\n",
        "def shortestDistance(row1, row2):\n",
        "        return math.sqrt(np.sum((row1-row2)**2))"
      ],
      "execution_count": null,
      "outputs": []
    },
    {
      "cell_type": "code",
      "metadata": {
        "id": "tnAaK7BLERdS"
      },
      "source": [
        "#KNN driver, return the \n",
        "#pass index of the training point and the distances between all the other clusters\n",
        "#iterator construct?\n",
        "# N = number of images in the dataset,\n",
        "# K number of neighbors\n",
        "def knn(train_x, train_y, point, k):\n",
        "    #List to store distances\n",
        "    distances =[]\n",
        "    \n",
        "    #List to store neighbors\n",
        "    k_nearest_neighbors = []\n",
        "    \n",
        "    #Variable to increment along the training set labels\n",
        "    i = 0\n",
        "    \n",
        "    #iterate over the training set\n",
        "    for training_point in train_x:\n",
        "        #Add the euclidean distance between the training point and test point \n",
        "        distances.append((shortestDistance(training_point,point),train_y[i]))\n",
        "        #Increment over the testing set \n",
        "        i = i+1\n",
        "    #sort the distances\n",
        "    sorted_distances = sorted(distances, key = lambda x:x[0])\n",
        "    #Get the top k matches\n",
        "    for i in range(k):\n",
        "        k_nearest_neighbors.append(sorted_distances.pop(1))\n",
        "    #Get the frequency using numpy functions, then return the closest label\n",
        "    k_nearest_neighbors = np.asarray(k_nearest_neighbors)\n",
        "    frequencies = np.unique(k_nearest_neighbors[:,1],return_counts = True)\n",
        "    labels,counts = frequencies\n",
        "    maj = labels[counts.argmax()]\n",
        "    return maj"
      ],
      "execution_count": null,
      "outputs": []
    },
    {
      "cell_type": "code",
      "metadata": {
        "id": "NWbXSCM9ERdS"
      },
      "source": [
        "#Driver class as to run the KNN algorithm\n",
        "#Keep track of a confusion matrix: 0-9, measure the number of the counts of decisions.\n",
        "#Iterate over pairs, run the prediction to lessen memory usage.\n",
        "def main(k):\n",
        "    counter = 0\n",
        "    noised_predictions = []\n",
        "    actual_predictions = []\n",
        "    rejected = []\n",
        "    right = 0\n",
        "\n",
        "    #Iterate over the test set to make predictions\n",
        "    for element in X_test:\n",
        "        #make a prediction using a KNN\n",
        "        pred = knn(X_train, y_train,element,k)\n",
        "        actual_predictions.append(pred)\n",
        "        if pred == y_test[counter]:\n",
        "            right = right+1\n",
        "        noise = np.random.normal(0, 1, 1)\n",
        "        pred = pred + noise\n",
        "        if pred > 0.6*k:\n",
        "            noised_predictions.append(pred)\n",
        "        else:\n",
        "            rejected.append(pred)\n",
        "        counter = counter+1\n",
        "    #print(\"Confusion Matrix \\n\")\n",
        "    #confusion_matrix(actual_predictions,y_test)\n",
        "    return 100*(right/y_test.shape[0])"
      ],
      "execution_count": null,
      "outputs": []
    },
    {
      "cell_type": "code",
      "metadata": {
        "id": "x888l-FPeIQl"
      },
      "source": [
        "#import time\r\n",
        "#x = main(5)\r\n",
        "#print(x)\r\n",
        "#start_time = time.time()\r\n",
        "#print(\"--- %s seconds ---\" % (time.time() - start_time))"
      ],
      "execution_count": null,
      "outputs": []
    },
    {
      "cell_type": "code",
      "metadata": {
        "id": "FGghkTwxERdT",
        "colab": {
          "base_uri": "https://localhost:8080/",
          "height": 312
        },
        "outputId": "f6ab2efe-b740-4187-9c85-cf4c9ed84086"
      },
      "source": [
        "#Call the driver function\n",
        "import time\n",
        "preds = []\n",
        "epochs = list(range(1,7))\n",
        "start_time = time.time()\n",
        "fig,ax = plt.subplots()\n",
        "for i in range(1,7):\n",
        "  acc = main(i)\n",
        "  preds.append(acc)\n",
        "ax.plot(epochs,preds, 'go-', linewidth = 2)\n",
        "ax.set(xlabel = 'Neighbors', ylabel = 'Accuracy', title = 'Accuracy of Private KNN')     \n",
        "\n",
        "print(\"--- %s seconds ---\" % (time.time() - start_time))"
      ],
      "execution_count": null,
      "outputs": [
        {
          "output_type": "stream",
          "text": [
            "--- 2982.863818883896 seconds ---\n"
          ],
          "name": "stdout"
        },
        {
          "output_type": "display_data",
          "data": {
            "image/png": "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\n",
            "text/plain": [
              "<Figure size 432x288 with 1 Axes>"
            ]
          },
          "metadata": {
            "tags": [],
            "needs_background": "light"
          }
        }
      ]
    },
    {
      "cell_type": "markdown",
      "metadata": {
        "id": "12mqZJsJERdU"
      },
      "source": [
        "Other diagnostics:\n",
        "* number of neighbors when all are diverse\n",
        "* return some i don't know/abstain as to better improe accuracy, learning with abstention, but unclear with performance"
      ]
    },
  ]
}
